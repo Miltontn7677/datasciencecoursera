{
  "cells": [
    {
      "cell_type": "markdown",
      "metadata": {
        "id": "view-in-github",
        "colab_type": "text"
      },
      "source": [
        "<a href=\"https://colab.research.google.com/github/Miltontn7677/datasciencecoursera/blob/master/C1_M2_Dictionary_Labassignment3.ipynb\" target=\"_parent\"><img src=\"https://colab.research.google.com/assets/colab-badge.svg\" alt=\"Open In Colab\"/></a>"
      ]
    },
    {
      "cell_type": "markdown",
      "source": [
        "# Lab Dictionary"
      ],
      "metadata": {
        "tags": [],
        "cell_id": "8a2a2db403ec4b9d855e0c94b18c81c6",
        "deepnote_app_coordinates": {
          "h": 5,
          "w": 12,
          "x": 0,
          "y": 1
        },
        "deepnote_cell_type": "markdown",
        "id": "vhIfpKue3F8M"
      }
    },
    {
      "cell_type": "markdown",
      "source": [
        "## Data We Want to Organize\n",
        "You are given a dataset as below represented as a list. You should organize them in the required data structure in following tasks."
      ],
      "metadata": {
        "tags": [],
        "cell_id": "86ee79beadcc42428c1eb925513b6899",
        "deepnote_app_coordinates": {
          "h": 5,
          "w": 12,
          "x": 0,
          "y": 7
        },
        "deepnote_cell_type": "markdown",
        "id": "0o65JD603F8P"
      }
    },
    {
      "cell_type": "code",
      "source": [
        "SIZE = 48\n",
        "names = ['STU' + str(i) for i in range(100,100+SIZE)]\n",
        "names"
      ],
      "metadata": {
        "tags": [],
        "cell_id": "1f194b2d55b24733b200a9b8fd669a3c",
        "source_hash": "d1526c0",
        "execution_start": 1668293746532,
        "execution_millis": 276518,
        "deepnote_app_coordinates": {
          "h": 5,
          "w": 12,
          "x": 0,
          "y": 13
        },
        "deepnote_to_be_reexecuted": false,
        "deepnote_cell_type": "code",
        "id": "cp3LCCZM3F8P",
        "colab": {
          "base_uri": "https://localhost:8080/"
        },
        "outputId": "081c0b18-3adb-4075-af76-1710dbbeba02"
      },
      "outputs": [
        {
          "output_type": "execute_result",
          "data": {
            "text/plain": [
              "['STU100',\n",
              " 'STU101',\n",
              " 'STU102',\n",
              " 'STU103',\n",
              " 'STU104',\n",
              " 'STU105',\n",
              " 'STU106',\n",
              " 'STU107',\n",
              " 'STU108',\n",
              " 'STU109',\n",
              " 'STU110',\n",
              " 'STU111',\n",
              " 'STU112',\n",
              " 'STU113',\n",
              " 'STU114',\n",
              " 'STU115',\n",
              " 'STU116',\n",
              " 'STU117',\n",
              " 'STU118',\n",
              " 'STU119',\n",
              " 'STU120',\n",
              " 'STU121',\n",
              " 'STU122',\n",
              " 'STU123',\n",
              " 'STU124',\n",
              " 'STU125',\n",
              " 'STU126',\n",
              " 'STU127',\n",
              " 'STU128',\n",
              " 'STU129',\n",
              " 'STU130',\n",
              " 'STU131',\n",
              " 'STU132',\n",
              " 'STU133',\n",
              " 'STU134',\n",
              " 'STU135',\n",
              " 'STU136',\n",
              " 'STU137',\n",
              " 'STU138',\n",
              " 'STU139',\n",
              " 'STU140',\n",
              " 'STU141',\n",
              " 'STU142',\n",
              " 'STU143',\n",
              " 'STU144',\n",
              " 'STU145',\n",
              " 'STU146',\n",
              " 'STU147']"
            ]
          },
          "metadata": {},
          "execution_count": 1
        }
      ],
      "execution_count": null
    },
    {
      "cell_type": "code",
      "source": [
        "import random\n",
        "\n",
        "scores1 = [random.randint(60, 100) for i in range(SIZE)]\n",
        "scores1"
      ],
      "metadata": {
        "tags": [],
        "cell_id": "786ae477329b4e8cbb0b02c18cbc5107",
        "source_hash": "3478a76d",
        "execution_start": 1668293746579,
        "execution_millis": 580,
        "deepnote_app_coordinates": {
          "h": 5,
          "w": 12,
          "x": 0,
          "y": 19
        },
        "deepnote_to_be_reexecuted": false,
        "deepnote_cell_type": "code",
        "id": "N4paz_Pz3F8R",
        "colab": {
          "base_uri": "https://localhost:8080/"
        },
        "outputId": "7b3607a7-c89c-4145-8345-aa023655e67c"
      },
      "outputs": [
        {
          "output_type": "execute_result",
          "data": {
            "text/plain": [
              "[78,\n",
              " 72,\n",
              " 86,\n",
              " 89,\n",
              " 93,\n",
              " 73,\n",
              " 96,\n",
              " 88,\n",
              " 89,\n",
              " 82,\n",
              " 69,\n",
              " 72,\n",
              " 72,\n",
              " 94,\n",
              " 81,\n",
              " 79,\n",
              " 98,\n",
              " 74,\n",
              " 65,\n",
              " 70,\n",
              " 62,\n",
              " 80,\n",
              " 88,\n",
              " 61,\n",
              " 86,\n",
              " 84,\n",
              " 92,\n",
              " 97,\n",
              " 73,\n",
              " 83,\n",
              " 95,\n",
              " 71,\n",
              " 96,\n",
              " 65,\n",
              " 100,\n",
              " 66,\n",
              " 88,\n",
              " 92,\n",
              " 70,\n",
              " 71,\n",
              " 81,\n",
              " 80,\n",
              " 61,\n",
              " 71,\n",
              " 77,\n",
              " 81,\n",
              " 82,\n",
              " 72]"
            ]
          },
          "metadata": {},
          "execution_count": 2
        }
      ],
      "execution_count": null
    },
    {
      "cell_type": "code",
      "source": [
        "scores2 = [random.randint(60, 100) for i in range(SIZE)]\n",
        "scores2"
      ],
      "metadata": {
        "id": "ltD_PRqG5h3Y",
        "colab": {
          "base_uri": "https://localhost:8080/"
        },
        "outputId": "a7f9ff35-3c38-4107-8330-7f707c9fda64"
      },
      "execution_count": null,
      "outputs": [
        {
          "output_type": "execute_result",
          "data": {
            "text/plain": [
              "[99,\n",
              " 82,\n",
              " 98,\n",
              " 88,\n",
              " 71,\n",
              " 79,\n",
              " 81,\n",
              " 85,\n",
              " 89,\n",
              " 89,\n",
              " 93,\n",
              " 85,\n",
              " 71,\n",
              " 97,\n",
              " 97,\n",
              " 78,\n",
              " 87,\n",
              " 90,\n",
              " 65,\n",
              " 98,\n",
              " 71,\n",
              " 96,\n",
              " 72,\n",
              " 76,\n",
              " 95,\n",
              " 99,\n",
              " 92,\n",
              " 82,\n",
              " 92,\n",
              " 75,\n",
              " 75,\n",
              " 72,\n",
              " 84,\n",
              " 76,\n",
              " 61,\n",
              " 79,\n",
              " 96,\n",
              " 90,\n",
              " 77,\n",
              " 77,\n",
              " 77,\n",
              " 83,\n",
              " 66,\n",
              " 87,\n",
              " 79,\n",
              " 62,\n",
              " 70,\n",
              " 71]"
            ]
          },
          "metadata": {},
          "execution_count": 3
        }
      ]
    },
    {
      "cell_type": "markdown",
      "source": [
        "## Dictionary"
      ],
      "metadata": {
        "tags": [],
        "cell_id": "ccd6016b85674d38a91c784b836af3ae",
        "deepnote_app_coordinates": {
          "h": 5,
          "w": 12,
          "x": 0,
          "y": 499
        },
        "deepnote_cell_type": "markdown",
        "id": "wpkcF6Fc3F8k"
      }
    },
    {
      "cell_type": "markdown",
      "source": [
        "### Task: Create a dictionary `d1`, in which names as key and scores1 as values"
      ],
      "metadata": {
        "tags": [],
        "cell_id": "4fb41903e3f84f6f9b037549eb17e5d7",
        "deepnote_app_coordinates": {
          "h": 5,
          "w": 12,
          "x": 0,
          "y": 505
        },
        "deepnote_cell_type": "markdown",
        "id": "eFM3bIkh3F8k"
      }
    },
    {
      "cell_type": "code",
      "source": [
        "# your code is here\n",
        "d1 = {}\n",
        "for i in range(SIZE):\n",
        "    d1[names[i]]= scores1[i]\n",
        "d1\n"
      ],
      "metadata": {
        "tags": [],
        "cell_id": "421a0ccd81f34fe0a146d9ebd546162c",
        "source_hash": "622c411e",
        "execution_start": 1668293747067,
        "execution_millis": 259,
        "deepnote_app_coordinates": {
          "h": 5,
          "w": 12,
          "x": 0,
          "y": 511
        },
        "deepnote_to_be_reexecuted": false,
        "deepnote_cell_type": "code",
        "id": "6O9hdUjT3F8k",
        "colab": {
          "base_uri": "https://localhost:8080/"
        },
        "outputId": "8a8997c7-8114-486a-a48c-22a15a27370d"
      },
      "outputs": [
        {
          "output_type": "execute_result",
          "data": {
            "text/plain": [
              "{'STU100': 78,\n",
              " 'STU101': 72,\n",
              " 'STU102': 86,\n",
              " 'STU103': 89,\n",
              " 'STU104': 93,\n",
              " 'STU105': 73,\n",
              " 'STU106': 96,\n",
              " 'STU107': 88,\n",
              " 'STU108': 89,\n",
              " 'STU109': 82,\n",
              " 'STU110': 69,\n",
              " 'STU111': 72,\n",
              " 'STU112': 72,\n",
              " 'STU113': 94,\n",
              " 'STU114': 81,\n",
              " 'STU115': 79,\n",
              " 'STU116': 98,\n",
              " 'STU117': 74,\n",
              " 'STU118': 65,\n",
              " 'STU119': 70,\n",
              " 'STU120': 62,\n",
              " 'STU121': 80,\n",
              " 'STU122': 88,\n",
              " 'STU123': 61,\n",
              " 'STU124': 86,\n",
              " 'STU125': 84,\n",
              " 'STU126': 92,\n",
              " 'STU127': 97,\n",
              " 'STU128': 73,\n",
              " 'STU129': 83,\n",
              " 'STU130': 95,\n",
              " 'STU131': 71,\n",
              " 'STU132': 96,\n",
              " 'STU133': 65,\n",
              " 'STU134': 100,\n",
              " 'STU135': 66,\n",
              " 'STU136': 88,\n",
              " 'STU137': 92,\n",
              " 'STU138': 70,\n",
              " 'STU139': 71,\n",
              " 'STU140': 81,\n",
              " 'STU141': 80,\n",
              " 'STU142': 61,\n",
              " 'STU143': 71,\n",
              " 'STU144': 77,\n",
              " 'STU145': 81,\n",
              " 'STU146': 82,\n",
              " 'STU147': 72}"
            ]
          },
          "metadata": {},
          "execution_count": 8
        }
      ],
      "execution_count": 8
    },
    {
      "cell_type": "markdown",
      "source": [
        "### Task: Print the score of the student with name 'STU136'"
      ],
      "metadata": {
        "tags": [],
        "cell_id": "610b56247ac4444f8e81930354deaf81",
        "deepnote_app_coordinates": {
          "h": 5,
          "w": 12,
          "x": 0,
          "y": 517
        },
        "deepnote_cell_type": "markdown",
        "id": "f8dSrMzl3F8k"
      }
    },
    {
      "cell_type": "code",
      "source": [
        "# your code is here\n",
        "d1['STU136']\n"
      ],
      "metadata": {
        "tags": [],
        "cell_id": "f037232b8d0a449c9075f07efb72b75e",
        "source_hash": "93ddea9b",
        "execution_start": 1668293747068,
        "execution_millis": 258,
        "deepnote_app_coordinates": {
          "h": 5,
          "w": 12,
          "x": 0,
          "y": 523
        },
        "deepnote_to_be_reexecuted": false,
        "deepnote_cell_type": "code",
        "id": "P1ukGGd23F8k",
        "colab": {
          "base_uri": "https://localhost:8080/"
        },
        "outputId": "9b4f404c-e894-44f7-9b7e-3659fdc2473c"
      },
      "outputs": [
        {
          "output_type": "execute_result",
          "data": {
            "text/plain": [
              "88"
            ]
          },
          "metadata": {},
          "execution_count": 9
        }
      ],
      "execution_count": 9
    },
    {
      "cell_type": "markdown",
      "source": [
        "### Task: Create a dictionary `d2`, in which names as key and scores2 as values"
      ],
      "metadata": {
        "tags": [],
        "cell_id": "2049405d2b4741d1a63a91cd352d7363",
        "deepnote_app_coordinates": {
          "h": 5,
          "w": 12,
          "x": 0,
          "y": 529
        },
        "deepnote_cell_type": "markdown",
        "id": "eSHF738x3F8k"
      }
    },
    {
      "cell_type": "code",
      "source": [
        "# your code is here\n",
        "d2 ={}\n",
        "for i in range(SIZE):\n",
        "  d2[names[i]] = scores2[i]\n",
        "d2"
      ],
      "metadata": {
        "tags": [],
        "cell_id": "0a8d81652a2b4967ba9c9cf961dc8205",
        "source_hash": "509e464a",
        "execution_start": 1668293747069,
        "execution_millis": 258,
        "deepnote_app_coordinates": {
          "h": 5,
          "w": 12,
          "x": 0,
          "y": 535
        },
        "deepnote_to_be_reexecuted": false,
        "deepnote_cell_type": "code",
        "id": "J8w3ELTi3F8k",
        "colab": {
          "base_uri": "https://localhost:8080/"
        },
        "outputId": "72b112ba-55fd-44e1-f5e5-2886f7f4fbb5"
      },
      "outputs": [
        {
          "output_type": "execute_result",
          "data": {
            "text/plain": [
              "{'STU100': 99,\n",
              " 'STU101': 82,\n",
              " 'STU102': 98,\n",
              " 'STU103': 88,\n",
              " 'STU104': 71,\n",
              " 'STU105': 79,\n",
              " 'STU106': 81,\n",
              " 'STU107': 85,\n",
              " 'STU108': 89,\n",
              " 'STU109': 89,\n",
              " 'STU110': 93,\n",
              " 'STU111': 85,\n",
              " 'STU112': 71,\n",
              " 'STU113': 97,\n",
              " 'STU114': 97,\n",
              " 'STU115': 78,\n",
              " 'STU116': 87,\n",
              " 'STU117': 90,\n",
              " 'STU118': 65,\n",
              " 'STU119': 98,\n",
              " 'STU120': 71,\n",
              " 'STU121': 96,\n",
              " 'STU122': 72,\n",
              " 'STU123': 76,\n",
              " 'STU124': 95,\n",
              " 'STU125': 99,\n",
              " 'STU126': 92,\n",
              " 'STU127': 82,\n",
              " 'STU128': 92,\n",
              " 'STU129': 75,\n",
              " 'STU130': 75,\n",
              " 'STU131': 72,\n",
              " 'STU132': 84,\n",
              " 'STU133': 76,\n",
              " 'STU134': 61,\n",
              " 'STU135': 79,\n",
              " 'STU136': 96,\n",
              " 'STU137': 90,\n",
              " 'STU138': 77,\n",
              " 'STU139': 77,\n",
              " 'STU140': 77,\n",
              " 'STU141': 83,\n",
              " 'STU142': 66,\n",
              " 'STU143': 87,\n",
              " 'STU144': 79,\n",
              " 'STU145': 62,\n",
              " 'STU146': 70,\n",
              " 'STU147': 71}"
            ]
          },
          "metadata": {},
          "execution_count": 11
        }
      ],
      "execution_count": 11
    },
    {
      "cell_type": "markdown",
      "source": [
        "Task: Print the names of student whose score is 88"
      ],
      "metadata": {
        "tags": [],
        "cell_id": "9c92d0ac103d483a9c41ee5600b8004d",
        "deepnote_app_coordinates": {
          "h": 5,
          "w": 12,
          "x": 0,
          "y": 541
        },
        "deepnote_cell_type": "markdown",
        "id": "blZAEhar3F8k"
      }
    },
    {
      "cell_type": "code",
      "source": [
        "# your code is here\n",
        "d2.keys()\n",
        "for i in range(SIZE):\n",
        "  if scores2[i] == 88:\n",
        "    print(names[i])"
      ],
      "metadata": {
        "tags": [],
        "cell_id": "88ddabebf0994c5c93781ffe4186af89",
        "source_hash": "af038eab",
        "execution_start": 1668293747078,
        "execution_millis": 249,
        "deepnote_app_coordinates": {
          "h": 5,
          "w": 12,
          "x": 0,
          "y": 547
        },
        "deepnote_to_be_reexecuted": false,
        "deepnote_cell_type": "code",
        "id": "qt9uwCHZ3F8l",
        "colab": {
          "base_uri": "https://localhost:8080/"
        },
        "outputId": "62e2cd30-c289-4c23-f589-d8db5b74ac0b"
      },
      "outputs": [
        {
          "output_type": "stream",
          "name": "stdout",
          "text": [
            "STU103\n"
          ]
        }
      ],
      "execution_count": 20
    },
    {
      "cell_type": "markdown",
      "source": [
        "### Task: Createa a dictionary `d3`, in which names as key, and a list of scores as value. The list of scores has two elements: the first one is from scores1, and the second one is from scores2."
      ],
      "metadata": {
        "tags": [],
        "cell_id": "123073fbda154d4290b73bd55909c37f",
        "deepnote_app_coordinates": {
          "h": 5,
          "w": 12,
          "x": 0,
          "y": 553
        },
        "deepnote_cell_type": "markdown",
        "id": "52Sad7r63F8l"
      }
    },
    {
      "cell_type": "code",
      "source": [
        "# your code is here\n",
        "d3 = {}\n",
        "for i in range(SIZE):\n",
        "  d3[names[i]] = [scores1[i],scores2[i]]\n",
        "d3"
      ],
      "metadata": {
        "tags": [],
        "cell_id": "9477ae40e7f445e0ae032bfd907692ef",
        "source_hash": "3c12957d",
        "execution_start": 1668293747080,
        "execution_millis": 248,
        "deepnote_app_coordinates": {
          "h": 5,
          "w": 12,
          "x": 0,
          "y": 559
        },
        "deepnote_to_be_reexecuted": false,
        "deepnote_cell_type": "code",
        "id": "B4vZArXk3F8l",
        "colab": {
          "base_uri": "https://localhost:8080/"
        },
        "outputId": "7af6e08d-aefc-4d68-f384-233c2d730e19"
      },
      "outputs": [
        {
          "output_type": "execute_result",
          "data": {
            "text/plain": [
              "{'STU100': [78, 99],\n",
              " 'STU101': [72, 82],\n",
              " 'STU102': [86, 98],\n",
              " 'STU103': [89, 88],\n",
              " 'STU104': [93, 71],\n",
              " 'STU105': [73, 79],\n",
              " 'STU106': [96, 81],\n",
              " 'STU107': [88, 85],\n",
              " 'STU108': [89, 89],\n",
              " 'STU109': [82, 89],\n",
              " 'STU110': [69, 93],\n",
              " 'STU111': [72, 85],\n",
              " 'STU112': [72, 71],\n",
              " 'STU113': [94, 97],\n",
              " 'STU114': [81, 97],\n",
              " 'STU115': [79, 78],\n",
              " 'STU116': [98, 87],\n",
              " 'STU117': [74, 90],\n",
              " 'STU118': [65, 65],\n",
              " 'STU119': [70, 98],\n",
              " 'STU120': [62, 71],\n",
              " 'STU121': [80, 96],\n",
              " 'STU122': [88, 72],\n",
              " 'STU123': [61, 76],\n",
              " 'STU124': [86, 95],\n",
              " 'STU125': [84, 99],\n",
              " 'STU126': [92, 92],\n",
              " 'STU127': [97, 82],\n",
              " 'STU128': [73, 92],\n",
              " 'STU129': [83, 75],\n",
              " 'STU130': [95, 75],\n",
              " 'STU131': [71, 72],\n",
              " 'STU132': [96, 84],\n",
              " 'STU133': [65, 76],\n",
              " 'STU134': [100, 61],\n",
              " 'STU135': [66, 79],\n",
              " 'STU136': [88, 96],\n",
              " 'STU137': [92, 90],\n",
              " 'STU138': [70, 77],\n",
              " 'STU139': [71, 77],\n",
              " 'STU140': [81, 77],\n",
              " 'STU141': [80, 83],\n",
              " 'STU142': [61, 66],\n",
              " 'STU143': [71, 87],\n",
              " 'STU144': [77, 79],\n",
              " 'STU145': [81, 62],\n",
              " 'STU146': [82, 70],\n",
              " 'STU147': [72, 71]}"
            ]
          },
          "metadata": {},
          "execution_count": 21
        }
      ],
      "execution_count": 21
    },
    {
      "cell_type": "markdown",
      "source": [
        "### Task: Find the cluster of students whose scores are all at least 90."
      ],
      "metadata": {
        "id": "GPFk5DVV6s4F"
      }
    },
    {
      "cell_type": "code",
      "source": [
        "# your code is here\n",
        "d5 = []\n",
        "for name in d3:\n",
        "  if d3[name][0] >=90 and d3[name] [1] >= 90:\n",
        "    d5.append(name)\n",
        "print(d5)\n"
      ],
      "metadata": {
        "id": "zLnWmgHP530-",
        "colab": {
          "base_uri": "https://localhost:8080/"
        },
        "outputId": "da559959-6f4c-4181-da3e-b48726a97ab1"
      },
      "execution_count": 41,
      "outputs": [
        {
          "output_type": "stream",
          "name": "stdout",
          "text": [
            "['STU113', 'STU126', 'STU137']\n"
          ]
        }
      ]
    },
    {
      "cell_type": "code",
      "source": [
        "# prompt: Find the cluster of students whose scores are all at least 90.\n",
        "\n",
        "cluster = []\n",
        "for name in d3:\n",
        "  if d3[name][0] >= 90 and d3[name][1] >= 90:\n",
        "    cluster.append(name)\n",
        "print(cluster)\n"
      ],
      "metadata": {
        "colab": {
          "base_uri": "https://localhost:8080/"
        },
        "id": "Fgi6zxaCWGuG",
        "outputId": "89c304b9-1dc2-4b57-966f-4dfe26ff5fc4"
      },
      "execution_count": 42,
      "outputs": [
        {
          "output_type": "stream",
          "name": "stdout",
          "text": [
            "['STU113', 'STU126', 'STU137']\n"
          ]
        }
      ]
    }
  ],
  "nbformat": 4,
  "nbformat_minor": 0,
  "metadata": {
    "deepnote": {},
    "orig_nbformat": 2,
    "deepnote_app_layout": "article",
    "deepnote_notebook_id": "0309c2b816a34a00bd52f3f4ec174672",
    "deepnote_persisted_session": {
      "createdAt": "2022-11-12T23:15:56.938Z"
    },
    "deepnote_execution_queue": [],
    "colab": {
      "provenance": [],
      "toc_visible": true,
      "include_colab_link": true
    },
    "language_info": {
      "name": "python"
    },
    "kernelspec": {
      "name": "python3",
      "display_name": "Python 3"
    },
    "gpuClass": "standard"
  }
}