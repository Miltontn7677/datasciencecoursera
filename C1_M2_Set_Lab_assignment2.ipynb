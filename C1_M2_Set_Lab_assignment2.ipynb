{
  "cells": [
    {
      "cell_type": "markdown",
      "metadata": {
        "id": "view-in-github",
        "colab_type": "text"
      },
      "source": [
        "<a href=\"https://colab.research.google.com/github/Miltontn7677/datasciencecoursera/blob/master/C1_M2_Set_Lab_assignment2.ipynb\" target=\"_parent\"><img src=\"https://colab.research.google.com/assets/colab-badge.svg\" alt=\"Open In Colab\"/></a>"
      ]
    },
    {
      "cell_type": "markdown",
      "source": [
        "# Lab Set"
      ],
      "metadata": {
        "tags": [],
        "cell_id": "8a2a2db403ec4b9d855e0c94b18c81c6",
        "deepnote_app_coordinates": {
          "h": 5,
          "w": 12,
          "x": 0,
          "y": 1
        },
        "deepnote_cell_type": "markdown",
        "id": "vhIfpKue3F8M"
      }
    },
    {
      "cell_type": "markdown",
      "source": [
        "## Data We Want to Organize\n",
        "You are given a dataset as below represented as a list. You should organize them in the required data structure in following tasks."
      ],
      "metadata": {
        "tags": [],
        "cell_id": "86ee79beadcc42428c1eb925513b6899",
        "deepnote_app_coordinates": {
          "h": 5,
          "w": 12,
          "x": 0,
          "y": 7
        },
        "deepnote_cell_type": "markdown",
        "id": "0o65JD603F8P"
      }
    },
    {
      "cell_type": "code",
      "source": [
        "SIZE = 48"
      ],
      "metadata": {
        "id": "s6RViAPl4cOS"
      },
      "execution_count": 1,
      "outputs": []
    },
    {
      "cell_type": "code",
      "source": [
        "names = ['STU' + str(i) for i in range(100,100+SIZE)]\n",
        "names"
      ],
      "metadata": {
        "tags": [],
        "cell_id": "1f194b2d55b24733b200a9b8fd669a3c",
        "source_hash": "d1526c0",
        "execution_start": 1668293746532,
        "execution_millis": 276518,
        "deepnote_app_coordinates": {
          "h": 5,
          "w": 12,
          "x": 0,
          "y": 13
        },
        "deepnote_to_be_reexecuted": false,
        "deepnote_cell_type": "code",
        "id": "cp3LCCZM3F8P",
        "colab": {
          "base_uri": "https://localhost:8080/"
        },
        "outputId": "4b2cae78-ea6a-4912-fbb5-547b5f8517a3"
      },
      "outputs": [
        {
          "output_type": "execute_result",
          "data": {
            "text/plain": [
              "['STU100',\n",
              " 'STU101',\n",
              " 'STU102',\n",
              " 'STU103',\n",
              " 'STU104',\n",
              " 'STU105',\n",
              " 'STU106',\n",
              " 'STU107',\n",
              " 'STU108',\n",
              " 'STU109',\n",
              " 'STU110',\n",
              " 'STU111',\n",
              " 'STU112',\n",
              " 'STU113',\n",
              " 'STU114',\n",
              " 'STU115',\n",
              " 'STU116',\n",
              " 'STU117',\n",
              " 'STU118',\n",
              " 'STU119',\n",
              " 'STU120',\n",
              " 'STU121',\n",
              " 'STU122',\n",
              " 'STU123',\n",
              " 'STU124',\n",
              " 'STU125',\n",
              " 'STU126',\n",
              " 'STU127',\n",
              " 'STU128',\n",
              " 'STU129',\n",
              " 'STU130',\n",
              " 'STU131',\n",
              " 'STU132',\n",
              " 'STU133',\n",
              " 'STU134',\n",
              " 'STU135',\n",
              " 'STU136',\n",
              " 'STU137',\n",
              " 'STU138',\n",
              " 'STU139',\n",
              " 'STU140',\n",
              " 'STU141',\n",
              " 'STU142',\n",
              " 'STU143',\n",
              " 'STU144',\n",
              " 'STU145',\n",
              " 'STU146',\n",
              " 'STU147']"
            ]
          },
          "metadata": {},
          "execution_count": 2
        }
      ],
      "execution_count": 2
    },
    {
      "cell_type": "code",
      "source": [
        "import random\n",
        "\n",
        "scores1 = [random.randint(60, 100) for i in range(SIZE) ]\n",
        "scores1"
      ],
      "metadata": {
        "tags": [],
        "cell_id": "786ae477329b4e8cbb0b02c18cbc5107",
        "source_hash": "3478a76d",
        "execution_start": 1668293746579,
        "execution_millis": 580,
        "deepnote_app_coordinates": {
          "h": 5,
          "w": 12,
          "x": 0,
          "y": 19
        },
        "deepnote_to_be_reexecuted": false,
        "deepnote_cell_type": "code",
        "id": "N4paz_Pz3F8R",
        "colab": {
          "base_uri": "https://localhost:8080/"
        },
        "outputId": "5417c222-f96a-4b82-a4d1-d9035fcb1c4c"
      },
      "outputs": [
        {
          "output_type": "execute_result",
          "data": {
            "text/plain": [
              "[95,\n",
              " 90,\n",
              " 99,\n",
              " 89,\n",
              " 69,\n",
              " 98,\n",
              " 88,\n",
              " 88,\n",
              " 76,\n",
              " 98,\n",
              " 93,\n",
              " 84,\n",
              " 75,\n",
              " 95,\n",
              " 77,\n",
              " 62,\n",
              " 81,\n",
              " 88,\n",
              " 78,\n",
              " 81,\n",
              " 65,\n",
              " 75,\n",
              " 87,\n",
              " 89,\n",
              " 93,\n",
              " 88,\n",
              " 88,\n",
              " 64,\n",
              " 68,\n",
              " 65,\n",
              " 80,\n",
              " 98,\n",
              " 100,\n",
              " 89,\n",
              " 60,\n",
              " 60,\n",
              " 68,\n",
              " 69,\n",
              " 91,\n",
              " 63,\n",
              " 62,\n",
              " 64,\n",
              " 84,\n",
              " 80,\n",
              " 87,\n",
              " 84,\n",
              " 85,\n",
              " 70]"
            ]
          },
          "metadata": {},
          "execution_count": 3
        }
      ],
      "execution_count": 3
    },
    {
      "cell_type": "code",
      "source": [
        "scores2 = [random.randint(60, 100) for i in range(SIZE) ]\n",
        "scores2"
      ],
      "metadata": {
        "id": "hse6wgqx3eBK",
        "colab": {
          "base_uri": "https://localhost:8080/"
        },
        "outputId": "d3795c29-9e87-408a-fb9f-1a2cc05d84fe"
      },
      "execution_count": 4,
      "outputs": [
        {
          "output_type": "execute_result",
          "data": {
            "text/plain": [
              "[94,\n",
              " 68,\n",
              " 68,\n",
              " 84,\n",
              " 96,\n",
              " 94,\n",
              " 62,\n",
              " 88,\n",
              " 84,\n",
              " 67,\n",
              " 81,\n",
              " 78,\n",
              " 85,\n",
              " 65,\n",
              " 100,\n",
              " 94,\n",
              " 75,\n",
              " 69,\n",
              " 88,\n",
              " 94,\n",
              " 99,\n",
              " 100,\n",
              " 82,\n",
              " 81,\n",
              " 71,\n",
              " 95,\n",
              " 75,\n",
              " 90,\n",
              " 100,\n",
              " 60,\n",
              " 71,\n",
              " 99,\n",
              " 82,\n",
              " 85,\n",
              " 97,\n",
              " 87,\n",
              " 70,\n",
              " 90,\n",
              " 83,\n",
              " 75,\n",
              " 64,\n",
              " 95,\n",
              " 88,\n",
              " 90,\n",
              " 78,\n",
              " 60,\n",
              " 69,\n",
              " 97]"
            ]
          },
          "metadata": {},
          "execution_count": 4
        }
      ]
    },
    {
      "cell_type": "markdown",
      "source": [
        "## Set"
      ],
      "metadata": {
        "tags": [],
        "cell_id": "c52a968d246842c4b7dbd21c45e377e9",
        "deepnote_app_coordinates": {
          "h": 5,
          "w": 12,
          "x": 0,
          "y": 451
        },
        "deepnote_cell_type": "markdown",
        "id": "lGwPkoDX3F8j"
      }
    },
    {
      "cell_type": "markdown",
      "source": [
        "Task: We have `scores1` and `scores2`. Convert them to `set1` and `set2`"
      ],
      "metadata": {
        "tags": [],
        "cell_id": "f9ac4b9df3ed48b7bb6edb332de13e85",
        "deepnote_app_coordinates": {
          "h": 5,
          "w": 12,
          "x": 0,
          "y": 457
        },
        "deepnote_cell_type": "markdown",
        "id": "dCUZspUq3F8j"
      }
    },
    {
      "cell_type": "code",
      "source": [
        "# Your code is here\n",
        "set1 = set(scores1)\n",
        "set2 = set(scores2)\n"
      ],
      "metadata": {
        "tags": [],
        "cell_id": "45cf3822635247ebb61c938c0f7fabd1",
        "source_hash": "ff4ad7bc",
        "execution_start": 1668293746987,
        "execution_millis": 320,
        "deepnote_app_coordinates": {
          "h": 5,
          "w": 12,
          "x": 0,
          "y": 463
        },
        "deepnote_to_be_reexecuted": false,
        "deepnote_cell_type": "code",
        "id": "DJehh63j3F8j"
      },
      "outputs": [],
      "execution_count": 9
    },
    {
      "cell_type": "code",
      "source": [
        "# prompt: scores1 and scores2. Convert them to set1 and set2\n",
        "\n",
        "set1 = set(scores1)\n",
        "set2 = set(scores2)\n"
      ],
      "metadata": {
        "id": "mSeQfLHLd4OX"
      },
      "execution_count": 10,
      "outputs": []
    },
    {
      "cell_type": "markdown",
      "source": [
        "Task: Print the unique score in scores1 and unique score in scores2"
      ],
      "metadata": {
        "tags": [],
        "cell_id": "07a306ffe7a646cc85581a2c47d87172",
        "deepnote_app_coordinates": {
          "h": 5,
          "w": 12,
          "x": 0,
          "y": 475
        },
        "deepnote_cell_type": "markdown",
        "id": "uXHr-OPv3F8j"
      }
    },
    {
      "cell_type": "code",
      "source": [
        "# Your code is here\n",
        "set3=scores1|scores2\n",
        "set3 = set(set3)\n",
        "set3\n"
      ],
      "metadata": {
        "tags": [],
        "cell_id": "1dd8e2b69a8d414f9e03ea9aeb5022ba",
        "source_hash": "68deac06",
        "execution_start": 1668293746990,
        "execution_millis": 3,
        "deepnote_app_coordinates": {
          "h": 5,
          "w": 12,
          "x": 0,
          "y": 481
        },
        "deepnote_to_be_reexecuted": false,
        "deepnote_cell_type": "code",
        "id": "U3qU7LV83F8j",
        "colab": {
          "base_uri": "https://localhost:8080/"
        },
        "outputId": "d6906837-8f62-4f91-a9f4-d5fa3a82e342"
      },
      "outputs": [
        {
          "output_type": "execute_result",
          "data": {
            "text/plain": [
              "{60,\n",
              " 62,\n",
              " 63,\n",
              " 64,\n",
              " 65,\n",
              " 67,\n",
              " 68,\n",
              " 69,\n",
              " 70,\n",
              " 71,\n",
              " 75,\n",
              " 76,\n",
              " 77,\n",
              " 78,\n",
              " 80,\n",
              " 81,\n",
              " 82,\n",
              " 83,\n",
              " 84,\n",
              " 85,\n",
              " 87,\n",
              " 88,\n",
              " 89,\n",
              " 90,\n",
              " 91,\n",
              " 93,\n",
              " 94,\n",
              " 95,\n",
              " 96,\n",
              " 97,\n",
              " 98,\n",
              " 99,\n",
              " 100}"
            ]
          },
          "metadata": {},
          "execution_count": 8
        }
      ],
      "execution_count": 8
    },
    {
      "cell_type": "code",
      "source": [
        "# prompt: scores1 and scores2. Convert them to set1 and set2\n",
        "\n",
        "set1 = set(scores1)\n",
        "set2 = set(scores2)\n"
      ],
      "metadata": {
        "id": "pRO549IieRTX"
      },
      "execution_count": null,
      "outputs": []
    },
    {
      "cell_type": "markdown",
      "source": [
        "Task: Print the union of `set1` and `set2`"
      ],
      "metadata": {
        "tags": [],
        "cell_id": "b1bb186cd2964f2396f8cf9ef386942c",
        "deepnote_app_coordinates": {
          "h": 5,
          "w": 12,
          "x": 0,
          "y": 487
        },
        "deepnote_cell_type": "markdown",
        "id": "R1ZxQmV03F8j"
      }
    },
    {
      "cell_type": "code",
      "source": [
        "# Your code is here\n",
        "set3 = set1|set2\n",
        "print (set3)"
      ],
      "metadata": {
        "tags": [],
        "cell_id": "9adfadf3b751401183ee14c1b407bba8",
        "source_hash": "1c0a131e",
        "execution_start": 1668293747039,
        "execution_millis": 286,
        "deepnote_app_coordinates": {
          "h": 5,
          "w": 12,
          "x": 0,
          "y": 493
        },
        "deepnote_to_be_reexecuted": false,
        "deepnote_cell_type": "code",
        "id": "cprvwnyB3F8k",
        "colab": {
          "base_uri": "https://localhost:8080/"
        },
        "outputId": "28df6598-04d6-410d-c74b-aa278a09b6ce"
      },
      "outputs": [
        {
          "output_type": "stream",
          "name": "stdout",
          "text": [
            "{60, 62, 63, 64, 65, 67, 68, 69, 70, 71, 75, 76, 77, 78, 80, 81, 82, 83, 84, 85, 87, 88, 89, 90, 91, 93, 94, 95, 96, 97, 98, 99, 100}\n"
          ]
        }
      ],
      "execution_count": 12
    },
    {
      "cell_type": "code",
      "source": [
        "# prompt:  Print the union of set1 and set2\n",
        "\n",
        "set3 = set1|set2\n",
        "print (set3)\n"
      ],
      "metadata": {
        "id": "b82-Q5dee7nG"
      },
      "execution_count": 12,
      "outputs": []
    },
    {
      "cell_type": "markdown",
      "source": [
        "Task: Print the intersection of `set1` and `set2`"
      ],
      "metadata": {
        "id": "YNC3vLLA3zfE"
      }
    },
    {
      "cell_type": "code",
      "source": [
        "# Your code is here\n",
        "set4=set1&set2\n",
        "print (set4)"
      ],
      "metadata": {
        "id": "p8NPGTfe39Yq",
        "colab": {
          "base_uri": "https://localhost:8080/"
        },
        "outputId": "b6952889-63e1-4cc5-ef9c-bb95e0e8a737"
      },
      "execution_count": 13,
      "outputs": [
        {
          "output_type": "stream",
          "name": "stdout",
          "text": [
            "{64, 65, 99, 68, 69, 70, 100, 75, 78, 81, 84, 85, 87, 88, 90, 60, 62, 95}\n"
          ]
        }
      ]
    },
    {
      "cell_type": "markdown",
      "source": [
        "Task: Print the difference of `set1` and `set2`"
      ],
      "metadata": {
        "id": "nmiwV5dI30BK"
      }
    },
    {
      "cell_type": "code",
      "source": [
        "# Your code is here\n",
        "set5=set1-set2\n",
        "print (set5)"
      ],
      "metadata": {
        "id": "wk9k2RCv3-fh",
        "colab": {
          "base_uri": "https://localhost:8080/"
        },
        "outputId": "e24b63c4-d40d-482d-b82c-feaec2406072"
      },
      "execution_count": 14,
      "outputs": [
        {
          "output_type": "stream",
          "name": "stdout",
          "text": [
            "{98, 76, 77, 80, 89, 91, 93, 63}\n"
          ]
        }
      ]
    }
  ],
  "nbformat": 4,
  "nbformat_minor": 0,
  "metadata": {
    "deepnote": {},
    "orig_nbformat": 2,
    "deepnote_app_layout": "article",
    "deepnote_notebook_id": "0309c2b816a34a00bd52f3f4ec174672",
    "deepnote_persisted_session": {
      "createdAt": "2022-11-12T23:15:56.938Z"
    },
    "deepnote_execution_queue": [],
    "colab": {
      "provenance": [],
      "include_colab_link": true
    },
    "language_info": {
      "name": "python"
    },
    "kernelspec": {
      "name": "python3",
      "display_name": "Python 3"
    },
    "gpuClass": "standard"
  }
}