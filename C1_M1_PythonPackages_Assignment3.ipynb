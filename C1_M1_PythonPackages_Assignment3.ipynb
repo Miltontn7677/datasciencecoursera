{
  "nbformat": 4,
  "nbformat_minor": 0,
  "metadata": {
    "colab": {
      "provenance": [],
      "include_colab_link": true
    },
    "kernelspec": {
      "name": "python3",
      "display_name": "Python 3"
    },
    "language_info": {
      "name": "python"
    }
  },
  "cells": [
    {
      "cell_type": "markdown",
      "metadata": {
        "id": "view-in-github",
        "colab_type": "text"
      },
      "source": [
        "<a href=\"https://colab.research.google.com/github/Miltontn7677/datasciencecoursera/blob/master/C1_M1_PythonPackages_Assignment3.ipynb\" target=\"_parent\"><img src=\"https://colab.research.google.com/assets/colab-badge.svg\" alt=\"Open In Colab\"/></a>"
      ]
    },
    {
      "cell_type": "markdown",
      "source": [
        "# Let's warm up your knowledge about Python Packages!"
      ],
      "metadata": {
        "id": "-1FsdnBvWFcJ"
      }
    },
    {
      "cell_type": "markdown",
      "source": [
        "# random package"
      ],
      "metadata": {
        "id": "7cXFjJLOZap0"
      }
    },
    {
      "cell_type": "code",
      "source": [
        "import random"
      ],
      "metadata": {
        "id": "n7qiruks8HZ5"
      },
      "execution_count": null,
      "outputs": []
    },
    {
      "cell_type": "markdown",
      "source": [
        "## Random Int\n",
        "> hint: use `random.randint()` or `random.randrange()`"
      ],
      "metadata": {
        "id": "TTElGHtF2N7g"
      }
    },
    {
      "cell_type": "markdown",
      "source": [
        "### Task: Generate a random positive integer less than 10."
      ],
      "metadata": {
        "id": "0CtQu71C3PP8"
      }
    },
    {
      "cell_type": "code",
      "source": [
        "import random\n",
        "random.randint(0,9)\n"
      ],
      "metadata": {
        "colab": {
          "base_uri": "https://localhost:8080/"
        },
        "id": "FqeGKUo-R--1",
        "outputId": "79c4ebae-07f8-4bbd-e407-cf7edffaf232"
      },
      "execution_count": 18,
      "outputs": [
        {
          "output_type": "execute_result",
          "data": {
            "text/plain": [
              "5"
            ]
          },
          "metadata": {},
          "execution_count": 18
        }
      ]
    },
    {
      "cell_type": "markdown",
      "source": [
        "### Task: Generate a random integer within 0 (inclusive) and 100 (inclusive)"
      ],
      "metadata": {
        "id": "3FK5QxBO3dqS"
      }
    },
    {
      "cell_type": "code",
      "source": [
        "random.randint (0,100)\n"
      ],
      "metadata": {
        "colab": {
          "base_uri": "https://localhost:8080/"
        },
        "id": "1nyT_GmwSb3Z",
        "outputId": "4f5a525a-0057-4fbc-c123-ead5901e424a"
      },
      "execution_count": 25,
      "outputs": [
        {
          "output_type": "execute_result",
          "data": {
            "text/plain": [
              "86"
            ]
          },
          "metadata": {},
          "execution_count": 25
        }
      ]
    },
    {
      "cell_type": "markdown",
      "source": [
        "### Task: Generate a random integer within a and b, where a and b are user entered integers and a $<=$ b"
      ],
      "metadata": {
        "id": "42rLKWbe3l8m"
      }
    },
    {
      "cell_type": "markdown",
      "source": [
        "## Random Float\n",
        "> hint: use `random.random()`, `random.uniform()`, or `random.gauss()`"
      ],
      "metadata": {
        "id": "1ut5x4Zl2RVu"
      }
    },
    {
      "cell_type": "markdown",
      "source": [
        "### Task: Generate a random float number between 0 and 1"
      ],
      "metadata": {
        "id": "dGUiTYKM4XTF"
      }
    },
    {
      "cell_type": "code",
      "source": [
        "random.random()"
      ],
      "metadata": {
        "colab": {
          "base_uri": "https://localhost:8080/"
        },
        "id": "LR7x1iLpSvUv",
        "outputId": "253c6937-28df-4da5-f27e-99a731853426"
      },
      "execution_count": 26,
      "outputs": [
        {
          "output_type": "execute_result",
          "data": {
            "text/plain": [
              "0.6787654312045333"
            ]
          },
          "metadata": {},
          "execution_count": 26
        }
      ]
    },
    {
      "cell_type": "markdown",
      "source": [
        "### Task: Generate a random float number between 0 and 10."
      ],
      "metadata": {
        "id": "VYkj8Sni5SLY"
      }
    },
    {
      "cell_type": "code",
      "source": [
        "random. uniform (0,10)"
      ],
      "metadata": {
        "colab": {
          "base_uri": "https://localhost:8080/"
        },
        "id": "v5LJ6EmjS2Ub",
        "outputId": "95195d88-6ef1-4e51-8ac8-7e564419a07b"
      },
      "execution_count": 27,
      "outputs": [
        {
          "output_type": "execute_result",
          "data": {
            "text/plain": [
              "2.684453205682338"
            ]
          },
          "metadata": {},
          "execution_count": 27
        }
      ]
    },
    {
      "cell_type": "markdown",
      "source": [
        "### Task: Generate a random float number between 5 and 10"
      ],
      "metadata": {
        "id": "-BEsJESu4hx0"
      }
    },
    {
      "cell_type": "code",
      "source": [
        "random.uniform (5,10)"
      ],
      "metadata": {
        "colab": {
          "base_uri": "https://localhost:8080/"
        },
        "id": "Q0tt9-_US8et",
        "outputId": "b0963f70-f4cf-470f-9b61-77c161fde87a"
      },
      "execution_count": 28,
      "outputs": [
        {
          "output_type": "execute_result",
          "data": {
            "text/plain": [
              "8.250007727734543"
            ]
          },
          "metadata": {},
          "execution_count": 28
        }
      ]
    },
    {
      "cell_type": "markdown",
      "source": [
        "### Task: Generate a random float number based on the Gaussian distribution"
      ],
      "metadata": {
        "id": "hi4_PetZ4oJk"
      }
    },
    {
      "cell_type": "code",
      "source": [
        "# prompt: a random float number based on the Gaussian distribution\n",
        "\n",
        "random.gauss(0,1)\n"
      ],
      "metadata": {
        "colab": {
          "base_uri": "https://localhost:8080/"
        },
        "id": "fItd93cMTDH0",
        "outputId": "0c5f6e23-b44a-4dc9-c8b5-b9ce057f24ea"
      },
      "execution_count": 29,
      "outputs": [
        {
          "output_type": "execute_result",
          "data": {
            "text/plain": [
              "0.7099125812816337"
            ]
          },
          "metadata": {},
          "execution_count": 29
        }
      ]
    },
    {
      "cell_type": "markdown",
      "source": [
        "## Random Datasets\n",
        "\n",
        "### Genearte a list of 10 random floats within 0 and 1."
      ],
      "metadata": {
        "id": "LIUQWee-UGpC"
      }
    },
    {
      "cell_type": "code",
      "source": [
        "# prompt: a list of 10 random floats within 0 and 1.\n",
        "\n",
        "[random.random() for _ in range(10)]\n"
      ],
      "metadata": {
        "colab": {
          "base_uri": "https://localhost:8080/"
        },
        "id": "jSl8b-6OTf0R",
        "outputId": "db877e0b-21b2-4285-c7af-48cc0c3d3a26"
      },
      "execution_count": 30,
      "outputs": [
        {
          "output_type": "execute_result",
          "data": {
            "text/plain": [
              "[3, 4, 9, 0, 2, 8, 1, 5, 6, 7]"
            ]
          },
          "metadata": {},
          "execution_count": 30
        }
      ]
    },
    {
      "cell_type": "markdown",
      "source": [
        "### Generate a list of 10 random integers within 0 and 10."
      ],
      "metadata": {
        "id": "mVmyyufkUKFu"
      }
    },
    {
      "cell_type": "code",
      "source": [
        "[random.randint(0,10) for _ in range (10)]"
      ],
      "metadata": {
        "colab": {
          "base_uri": "https://localhost:8080/"
        },
        "id": "QKh-w0d3UUij",
        "outputId": "7bd77068-45c8-43c7-f454-ecc24d85e4e6"
      },
      "execution_count": 36,
      "outputs": [
        {
          "output_type": "execute_result",
          "data": {
            "text/plain": [
              "[8, 0, 0, 3, 4, 7, 2, 5, 3, 10]"
            ]
          },
          "metadata": {},
          "execution_count": 36
        }
      ]
    },
    {
      "cell_type": "markdown",
      "source": [
        "### Generate a list of 10 numbers following normal distribution with 10 as mean, and 1 as standard derivation."
      ],
      "metadata": {
        "id": "AeQnD-btUMvK"
      }
    },
    {
      "cell_type": "code",
      "source": [
        "[random. normalvariate(10,1) for _ in range (10)]"
      ],
      "metadata": {
        "colab": {
          "base_uri": "https://localhost:8080/"
        },
        "id": "T61yD9vaVu5P",
        "outputId": "44e5d755-082a-43ba-8e34-35b6d112a954"
      },
      "execution_count": 37,
      "outputs": [
        {
          "output_type": "execute_result",
          "data": {
            "text/plain": [
              "[10.187368442923637,\n",
              " 12.62138627402316,\n",
              " 10.537965199979311,\n",
              " 10.457169161994958,\n",
              " 8.374775325025944,\n",
              " 9.834367579606015,\n",
              " 10.32113524951012,\n",
              " 9.461663830335114,\n",
              " 8.326771055066692,\n",
              " 9.776329012105673]"
            ]
          },
          "metadata": {},
          "execution_count": 37
        }
      ]
    },
    {
      "cell_type": "markdown",
      "source": [
        "## math module"
      ],
      "metadata": {
        "id": "GPn4oz6p7NnL"
      }
    },
    {
      "cell_type": "code",
      "source": [
        "import math"
      ],
      "metadata": {
        "id": "U3680QNbZ7jA"
      },
      "execution_count": null,
      "outputs": []
    },
    {
      "cell_type": "markdown",
      "source": [
        "### Task: return the ceiling, floor, absolute value of a user entered float"
      ],
      "metadata": {
        "id": "q-Jxx3kfZwb2"
      }
    },
    {
      "cell_type": "code",
      "source": [
        "# prompt: return the ceiling, floor, absolute value of a user entered float\n",
        "\n",
        "import math\n",
        "\n",
        "number = float(input(\"Enter a float number: \"))\n",
        "\n",
        "ceiling = math.ceil(number)\n",
        "floor = math.floor(number)\n",
        "absolute = abs(number)\n",
        "\n",
        "print(\"Ceiling:\", ceiling)\n",
        "print(\"Floor:\", floor)\n",
        "print(\"Absolute value:\", absolute)\n"
      ],
      "metadata": {
        "colab": {
          "base_uri": "https://localhost:8080/"
        },
        "id": "nGYEdDFAWca8",
        "outputId": "8237a215-c61f-4cda-d5a0-ccae773abeaa"
      },
      "execution_count": 39,
      "outputs": [
        {
          "output_type": "stream",
          "name": "stdout",
          "text": [
            "Enter a float number: 7.7\n",
            "Ceiling: 8\n",
            "Floor: 7\n",
            "Absolute value: 7.7\n"
          ]
        }
      ]
    },
    {
      "cell_type": "markdown",
      "source": [
        "### Task: return the factorial of a user entered positive integer"
      ],
      "metadata": {
        "id": "n0wytwQnaRJa"
      }
    },
    {
      "cell_type": "code",
      "source": [
        "number = int(input(\"Enter a positive integer: \"))\n",
        "\n",
        "if number < 0:\n",
        "    print(\"Factorial is not defined for negative numbers.\")\n",
        "else:\n",
        "    factorial = math.factorial(number)\n",
        "    print(f\"The factorial of {number} is {factorial}\")"
      ],
      "metadata": {
        "colab": {
          "base_uri": "https://localhost:8080/"
        },
        "id": "veeOEcV2ZXxb",
        "outputId": "a0a96adf-53b6-4f88-b5b8-f95773f16c9b"
      },
      "execution_count": 41,
      "outputs": [
        {
          "output_type": "stream",
          "name": "stdout",
          "text": [
            "Enter a positive integer: 1\n",
            "The factorial of 1 is 1\n"
          ]
        }
      ]
    },
    {
      "cell_type": "markdown",
      "source": [
        "### Task: return the square root, $log$, $log_2$, $log_{10}$ of a user entered positive float"
      ],
      "metadata": {
        "id": "LoFxfnQObGNH"
      }
    },
    {
      "cell_type": "code",
      "source": [
        "number = float(input(\"Enter a positive float: \"))\n",
        "\n",
        "if number < 0:\n",
        "    print(\"Invalid input. Please enter a positive float.\")\n",
        "else:\n",
        "    square_root = math.sqrt(number)\n",
        "    natural_log = math.log(number)\n",
        "    log_base2 = math.log2(number)\n",
        "    log_base10 = math.log10(number)\n",
        "    print (f\"The square root of {number} is {square_root}\")\n",
        "    print (f\"The natural logarithm of {number} is {natural_log}\")\n",
        "    print (f\"The base-2 logarithm of {number} is {log_base2}\")\n",
        "    print (f\"The base-10 logarithm of {number} is {log_base10}\")\n"
      ],
      "metadata": {
        "colab": {
          "base_uri": "https://localhost:8080/"
        },
        "id": "t1ThQIQ7aS2d",
        "outputId": "13c77a23-8edc-42e3-b742-aa37695f859e"
      },
      "execution_count": 45,
      "outputs": [
        {
          "output_type": "stream",
          "name": "stdout",
          "text": [
            "Enter a positive float: 2\n",
            "The square root of 2.0 is 1.4142135623730951\n",
            "The natural logarithm of 2.0 is 0.6931471805599453\n",
            "The base-2 logarithm of 2.0 is 1.0\n",
            "The base-10 logarithm of 2.0 is 0.3010299956639812\n"
          ]
        }
      ]
    }
  ]
}