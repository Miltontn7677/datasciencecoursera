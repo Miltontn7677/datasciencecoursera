{
  "cells": [
    {
      "cell_type": "markdown",
      "metadata": {
        "id": "view-in-github",
        "colab_type": "text"
      },
      "source": [
        "<a href=\"https://colab.research.google.com/github/Miltontn7677/datasciencecoursera/blob/master/C1_M2_List_Lab.ipynb\" target=\"_parent\"><img src=\"https://colab.research.google.com/assets/colab-badge.svg\" alt=\"Open In Colab\"/></a>"
      ]
    },
    {
      "cell_type": "markdown",
      "source": [
        "# Lab-List"
      ],
      "metadata": {
        "tags": [],
        "cell_id": "8a2a2db403ec4b9d855e0c94b18c81c6",
        "deepnote_app_coordinates": {
          "h": 5,
          "w": 12,
          "x": 0,
          "y": 1
        },
        "deepnote_cell_type": "markdown",
        "id": "JCZR-YdIyVty"
      }
    },
    {
      "cell_type": "markdown",
      "source": [
        "## Data We Want to Organize\n",
        "You are given a dataset as below represented as a list. You should organize them in the required data structure in following tasks."
      ],
      "metadata": {
        "tags": [],
        "cell_id": "86ee79beadcc42428c1eb925513b6899",
        "deepnote_app_coordinates": {
          "h": 5,
          "w": 12,
          "x": 0,
          "y": 7
        },
        "deepnote_cell_type": "markdown",
        "id": "AiW2esedyVtz"
      }
    },
    {
      "cell_type": "code",
      "source": [
        "SIZE = 48"
      ],
      "metadata": {
        "id": "imUa4OKxyrgX"
      },
      "execution_count": 2,
      "outputs": []
    },
    {
      "cell_type": "code",
      "source": [
        "names = ['STU' + str(i) for i in range(100,100+SIZE)]\n",
        "names"
      ],
      "metadata": {
        "tags": [],
        "cell_id": "1f194b2d55b24733b200a9b8fd669a3c",
        "source_hash": "d1526c0",
        "execution_start": 1668293746532,
        "execution_millis": 276518,
        "deepnote_app_coordinates": {
          "h": 5,
          "w": 12,
          "x": 0,
          "y": 13
        },
        "deepnote_to_be_reexecuted": false,
        "deepnote_cell_type": "code",
        "id": "xnKS-yqLyVtz",
        "colab": {
          "base_uri": "https://localhost:8080/"
        },
        "outputId": "0ee69fe1-7eb3-43cb-8fc1-429f7d95b5b1"
      },
      "outputs": [
        {
          "output_type": "execute_result",
          "data": {
            "text/plain": [
              "['STU100',\n",
              " 'STU101',\n",
              " 'STU102',\n",
              " 'STU103',\n",
              " 'STU104',\n",
              " 'STU105',\n",
              " 'STU106',\n",
              " 'STU107',\n",
              " 'STU108',\n",
              " 'STU109',\n",
              " 'STU110',\n",
              " 'STU111',\n",
              " 'STU112',\n",
              " 'STU113',\n",
              " 'STU114',\n",
              " 'STU115',\n",
              " 'STU116',\n",
              " 'STU117',\n",
              " 'STU118',\n",
              " 'STU119',\n",
              " 'STU120',\n",
              " 'STU121',\n",
              " 'STU122',\n",
              " 'STU123',\n",
              " 'STU124',\n",
              " 'STU125',\n",
              " 'STU126',\n",
              " 'STU127',\n",
              " 'STU128',\n",
              " 'STU129',\n",
              " 'STU130',\n",
              " 'STU131',\n",
              " 'STU132',\n",
              " 'STU133',\n",
              " 'STU134',\n",
              " 'STU135',\n",
              " 'STU136',\n",
              " 'STU137',\n",
              " 'STU138',\n",
              " 'STU139',\n",
              " 'STU140',\n",
              " 'STU141',\n",
              " 'STU142',\n",
              " 'STU143',\n",
              " 'STU144',\n",
              " 'STU145',\n",
              " 'STU146',\n",
              " 'STU147']"
            ]
          },
          "metadata": {},
          "execution_count": 6
        }
      ],
      "execution_count": 6
    },
    {
      "cell_type": "code",
      "source": [
        "import random\n",
        "\n",
        "scores1 = [ random.randint(60, 100) for i in range(SIZE)]\n",
        "scores1"
      ],
      "metadata": {
        "tags": [],
        "cell_id": "786ae477329b4e8cbb0b02c18cbc5107",
        "source_hash": "3478a76d",
        "execution_start": 1668293746579,
        "execution_millis": 580,
        "deepnote_app_coordinates": {
          "h": 5,
          "w": 12,
          "x": 0,
          "y": 19
        },
        "deepnote_to_be_reexecuted": false,
        "deepnote_cell_type": "code",
        "id": "aHXK7l7DyVt0",
        "colab": {
          "base_uri": "https://localhost:8080/"
        },
        "outputId": "99c37e70-573e-431c-b0fa-9c598c7788aa"
      },
      "outputs": [
        {
          "output_type": "execute_result",
          "data": {
            "text/plain": [
              "[81,\n",
              " 80,\n",
              " 88,\n",
              " 99,\n",
              " 76,\n",
              " 67,\n",
              " 63,\n",
              " 61,\n",
              " 86,\n",
              " 97,\n",
              " 91,\n",
              " 94,\n",
              " 99,\n",
              " 100,\n",
              " 90,\n",
              " 67,\n",
              " 61,\n",
              " 68,\n",
              " 97,\n",
              " 97,\n",
              " 87,\n",
              " 77,\n",
              " 87,\n",
              " 93,\n",
              " 99,\n",
              " 62,\n",
              " 79,\n",
              " 64,\n",
              " 69,\n",
              " 95,\n",
              " 63,\n",
              " 83,\n",
              " 99,\n",
              " 99,\n",
              " 85,\n",
              " 69,\n",
              " 83,\n",
              " 81,\n",
              " 85,\n",
              " 82,\n",
              " 92,\n",
              " 87,\n",
              " 93,\n",
              " 85,\n",
              " 79,\n",
              " 88,\n",
              " 90,\n",
              " 94]"
            ]
          },
          "metadata": {},
          "execution_count": 7
        }
      ],
      "execution_count": 7
    },
    {
      "cell_type": "markdown",
      "source": [
        "## List\n"
      ],
      "metadata": {
        "tags": [],
        "cell_id": "a9e53779797b4237b76c5d2e9a737aaf",
        "deepnote_app_coordinates": {
          "h": 5,
          "w": 12,
          "x": 0,
          "y": 25
        },
        "deepnote_cell_type": "markdown",
        "id": "FeoRCIapyVt0"
      }
    },
    {
      "cell_type": "markdown",
      "source": [
        "Task: Create a grade book `gradebook` as a list, in which each element is a list and the first item is the name (from the `names` data), and second item is the score (from the `scores1` data)."
      ],
      "metadata": {
        "tags": [],
        "cell_id": "4a73a754655440f99f30dc404eb95cb0",
        "deepnote_app_coordinates": {
          "h": 5,
          "w": 12,
          "x": 0,
          "y": 31
        },
        "deepnote_cell_type": "markdown",
        "id": "UxPy2ygRyVt0"
      }
    },
    {
      "cell_type": "code",
      "source": [
        "# your code here\n",
        "gradebook =[[names[i],scores1[i]] for i in range(SIZE)]\n",
        "gradebook"
      ],
      "metadata": {
        "tags": [],
        "cell_id": "b873d76ad49a4d5781ab032af8b55e2b",
        "source_hash": "8812a278",
        "execution_start": 1668293746580,
        "execution_millis": 20,
        "deepnote_app_coordinates": {
          "h": 5,
          "w": 12,
          "x": 0,
          "y": 37
        },
        "deepnote_to_be_reexecuted": false,
        "deepnote_cell_type": "code",
        "id": "jVv6y_LzyVt1",
        "colab": {
          "base_uri": "https://localhost:8080/"
        },
        "outputId": "6d195690-1edf-4211-ad90-42052d95f9fe"
      },
      "outputs": [
        {
          "output_type": "execute_result",
          "data": {
            "text/plain": [
              "[['STU100', 81],\n",
              " ['STU101', 80],\n",
              " ['STU102', 88],\n",
              " ['STU103', 99],\n",
              " ['STU104', 76],\n",
              " ['STU105', 67],\n",
              " ['STU106', 63],\n",
              " ['STU107', 61],\n",
              " ['STU108', 86],\n",
              " ['STU109', 97],\n",
              " ['STU110', 91],\n",
              " ['STU111', 94],\n",
              " ['STU112', 99],\n",
              " ['STU113', 100],\n",
              " ['STU114', 90],\n",
              " ['STU115', 67],\n",
              " ['STU116', 61],\n",
              " ['STU117', 68],\n",
              " ['STU118', 97],\n",
              " ['STU119', 97],\n",
              " ['STU120', 87],\n",
              " ['STU121', 77],\n",
              " ['STU122', 87],\n",
              " ['STU123', 93],\n",
              " ['STU124', 99],\n",
              " ['STU125', 62],\n",
              " ['STU126', 79],\n",
              " ['STU127', 64],\n",
              " ['STU128', 69],\n",
              " ['STU129', 95],\n",
              " ['STU130', 63],\n",
              " ['STU131', 83],\n",
              " ['STU132', 99],\n",
              " ['STU133', 99],\n",
              " ['STU134', 85],\n",
              " ['STU135', 69],\n",
              " ['STU136', 83],\n",
              " ['STU137', 81],\n",
              " ['STU138', 85],\n",
              " ['STU139', 82],\n",
              " ['STU140', 92],\n",
              " ['STU141', 87],\n",
              " ['STU142', 93],\n",
              " ['STU143', 85],\n",
              " ['STU144', 79],\n",
              " ['STU145', 88],\n",
              " ['STU146', 90],\n",
              " ['STU147', 94]]"
            ]
          },
          "metadata": {},
          "execution_count": 10
        }
      ],
      "execution_count": 10
    },
    {
      "cell_type": "markdown",
      "source": [
        "Task: Create a subset of the `gradebook` as `gb1`, which contains first 25 elements of the `gradebook`"
      ],
      "metadata": {
        "tags": [],
        "cell_id": "08332d722c4e42a3bb416a6ad9b8ad1c",
        "deepnote_app_coordinates": {
          "h": 5,
          "w": 12,
          "x": 0,
          "y": 43
        },
        "deepnote_cell_type": "markdown",
        "id": "0Qu5ZN2nyVt1"
      }
    },
    {
      "cell_type": "code",
      "source": [
        "# your code here\n",
        "gb1 = gradebook[:25]"
      ],
      "metadata": {
        "tags": [],
        "cell_id": "2553d9d494f945fd90607bc7d08c4e34",
        "source_hash": "e20899d7",
        "execution_start": 1668293746600,
        "execution_millis": 562,
        "deepnote_app_coordinates": {
          "h": 5,
          "w": 12,
          "x": 0,
          "y": 49
        },
        "deepnote_to_be_reexecuted": false,
        "deepnote_cell_type": "code",
        "id": "QDoKAGYvyVt1"
      },
      "outputs": [],
      "execution_count": 9
    },
    {
      "cell_type": "markdown",
      "source": [
        "Task: Create a subset of the `gradebook` as `gb2`, in which student name always ends with an even number"
      ],
      "metadata": {
        "tags": [],
        "cell_id": "0cfaf89c22d646da98b10f2211c85a8c",
        "deepnote_app_coordinates": {
          "h": 5,
          "w": 12,
          "x": 0,
          "y": 55
        },
        "deepnote_cell_type": "markdown",
        "id": "MSZ948xPyVt1"
      }
    },
    {
      "cell_type": "code",
      "source": [
        "# your code here\n",
        "gb2 =[i for i in gradebook if int(i[0][-1])%2==0]\n",
        "gb2"
      ],
      "metadata": {
        "tags": [],
        "cell_id": "592e49bc6d314951b261759dc7a92949",
        "source_hash": "21bfb041",
        "execution_start": 1668293746601,
        "execution_millis": 561,
        "deepnote_app_coordinates": {
          "h": 5,
          "w": 12,
          "x": 0,
          "y": 61
        },
        "deepnote_to_be_reexecuted": false,
        "deepnote_cell_type": "code",
        "id": "LW2XeL2DyVt1",
        "colab": {
          "base_uri": "https://localhost:8080/"
        },
        "outputId": "15fc3e01-3e89-4627-9da3-662bfe554345"
      },
      "outputs": [
        {
          "output_type": "execute_result",
          "data": {
            "text/plain": [
              "[['STU100', 81],\n",
              " ['STU102', 88],\n",
              " ['STU104', 76],\n",
              " ['STU106', 63],\n",
              " ['STU108', 86],\n",
              " ['STU110', 91],\n",
              " ['STU112', 99],\n",
              " ['STU114', 90],\n",
              " ['STU116', 61],\n",
              " ['STU118', 97],\n",
              " ['STU120', 87],\n",
              " ['STU122', 87],\n",
              " ['STU124', 99],\n",
              " ['STU126', 79],\n",
              " ['STU128', 69],\n",
              " ['STU130', 63],\n",
              " ['STU132', 99],\n",
              " ['STU134', 85],\n",
              " ['STU136', 83],\n",
              " ['STU138', 85],\n",
              " ['STU140', 92],\n",
              " ['STU142', 93],\n",
              " ['STU144', 79],\n",
              " ['STU146', 90]]"
            ]
          },
          "metadata": {},
          "execution_count": 27
        }
      ],
      "execution_count": 27
    },
    {
      "cell_type": "markdown",
      "source": [
        "Task: Create a subset of the `gradebook` as `gb3`, in which student score always above 80"
      ],
      "metadata": {
        "tags": [],
        "cell_id": "71b0b2d1903f4f31b01504bd8c8edd23",
        "deepnote_app_coordinates": {
          "h": 5,
          "w": 12,
          "x": 0,
          "y": 67
        },
        "deepnote_cell_type": "markdown",
        "id": "dCSIn9myyVt1"
      }
    },
    {
      "cell_type": "code",
      "source": [
        "# prompt: reate a subset of the gradebook as gb3, in which student score always above 80\n",
        "\n",
        "gb3 =[i for i in gradebook if i[1] > 80]\n"
      ],
      "metadata": {
        "id": "oKuJZmNQvDgb"
      },
      "execution_count": null,
      "outputs": []
    },
    {
      "cell_type": "markdown",
      "source": [
        "Task: Create a subset of the `gradebook` as `gb4`, in which student scores are below the average score"
      ],
      "metadata": {
        "id": "ZSAvgyz7zwYe"
      }
    },
    {
      "cell_type": "code",
      "source": [
        "# your code here\n",
        "gb4=[ i for i in gradebook if i[1] < sum(scores1)/len(scores1)]\n",
        "gb4"
      ],
      "metadata": {
        "id": "ohPwjmvPzuhu",
        "colab": {
          "base_uri": "https://localhost:8080/"
        },
        "outputId": "de4b2b34-c239-4203-b0a9-4d5b728faca0"
      },
      "execution_count": 28,
      "outputs": [
        {
          "output_type": "execute_result",
          "data": {
            "text/plain": [
              "[['STU100', 81],\n",
              " ['STU101', 80],\n",
              " ['STU104', 76],\n",
              " ['STU105', 67],\n",
              " ['STU106', 63],\n",
              " ['STU107', 61],\n",
              " ['STU115', 67],\n",
              " ['STU116', 61],\n",
              " ['STU117', 68],\n",
              " ['STU121', 77],\n",
              " ['STU125', 62],\n",
              " ['STU126', 79],\n",
              " ['STU127', 64],\n",
              " ['STU128', 69],\n",
              " ['STU130', 63],\n",
              " ['STU131', 83],\n",
              " ['STU135', 69],\n",
              " ['STU136', 83],\n",
              " ['STU137', 81],\n",
              " ['STU139', 82],\n",
              " ['STU144', 79]]"
            ]
          },
          "metadata": {},
          "execution_count": 28
        }
      ]
    },
    {
      "cell_type": "markdown",
      "source": [
        "Task: Update the `gradebook` so the scores are converted to letter grade: >=90 is A, >=80 is B, etc."
      ],
      "metadata": {
        "tags": [],
        "cell_id": "76aa5362844c496bbea2b8bfdc0e08fb",
        "deepnote_app_coordinates": {
          "h": 5,
          "w": 12,
          "x": 0,
          "y": 79
        },
        "deepnote_cell_type": "markdown",
        "id": "omNbuMKDyVt1"
      }
    },
    {
      "cell_type": "code",
      "source": [
        "# prompt: gradebook so the scores are converted to letter grade: >=90 is A, >=80 is B, etc\n",
        "\n",
        "for i in range(len(gradebook)):\n",
        "  if gradebook[i][1] >= 90:\n",
        "    gradebook[i][1] = 'A'\n",
        "  elif gradebook[i][1] >= 80:\n",
        "    gradebook[i][1] = 'B'\n",
        "  elif gradebook[i][1] >= 70:\n",
        "    gradebook[i][1] = 'C'\n",
        "  elif gradebook[i][1] >= 60:\n",
        "    gradebook[i][1] = 'D'\n",
        "  else:\n",
        "    gradebook[i][1] = 'F'\n",
        "gradebook\n"
      ],
      "metadata": {
        "tags": [],
        "cell_id": "90006f5726414cbd8367c36a7f8a168d",
        "source_hash": "354fcbfb",
        "execution_start": 1668293746643,
        "execution_millis": 520,
        "deepnote_app_coordinates": {
          "h": 5,
          "w": 12,
          "x": 0,
          "y": 85
        },
        "deepnote_to_be_reexecuted": false,
        "deepnote_cell_type": "code",
        "id": "wQPipM1jyVt1",
        "colab": {
          "base_uri": "https://localhost:8080/"
        },
        "outputId": "684295f3-90ff-4bfc-a970-0278d029aa60"
      },
      "outputs": [
        {
          "output_type": "execute_result",
          "data": {
            "text/plain": [
              "[['STU100', 'B'],\n",
              " ['STU101', 'B'],\n",
              " ['STU102', 'B'],\n",
              " ['STU103', 'A'],\n",
              " ['STU104', 'C'],\n",
              " ['STU105', 'D'],\n",
              " ['STU106', 'D'],\n",
              " ['STU107', 'D'],\n",
              " ['STU108', 'B'],\n",
              " ['STU109', 'A'],\n",
              " ['STU110', 'A'],\n",
              " ['STU111', 'A'],\n",
              " ['STU112', 'A'],\n",
              " ['STU113', 'A'],\n",
              " ['STU114', 'A'],\n",
              " ['STU115', 'D'],\n",
              " ['STU116', 'D'],\n",
              " ['STU117', 'D'],\n",
              " ['STU118', 'A'],\n",
              " ['STU119', 'A'],\n",
              " ['STU120', 'B'],\n",
              " ['STU121', 'C'],\n",
              " ['STU122', 'B'],\n",
              " ['STU123', 'A'],\n",
              " ['STU124', 'A'],\n",
              " ['STU125', 'D'],\n",
              " ['STU126', 'C'],\n",
              " ['STU127', 'D'],\n",
              " ['STU128', 'D'],\n",
              " ['STU129', 'A'],\n",
              " ['STU130', 'D'],\n",
              " ['STU131', 'B'],\n",
              " ['STU132', 'A'],\n",
              " ['STU133', 'A'],\n",
              " ['STU134', 'B'],\n",
              " ['STU135', 'D'],\n",
              " ['STU136', 'B'],\n",
              " ['STU137', 'B'],\n",
              " ['STU138', 'B'],\n",
              " ['STU139', 'B'],\n",
              " ['STU140', 'A'],\n",
              " ['STU141', 'B'],\n",
              " ['STU142', 'A'],\n",
              " ['STU143', 'B'],\n",
              " ['STU144', 'C'],\n",
              " ['STU145', 'B'],\n",
              " ['STU146', 'A'],\n",
              " ['STU147', 'A']]"
            ]
          },
          "metadata": {},
          "execution_count": 32
        }
      ],
      "execution_count": 32
    }
  ],
  "nbformat": 4,
  "nbformat_minor": 0,
  "metadata": {
    "deepnote": {},
    "orig_nbformat": 2,
    "deepnote_app_layout": "article",
    "deepnote_notebook_id": "0309c2b816a34a00bd52f3f4ec174672",
    "deepnote_persisted_session": {
      "createdAt": "2022-11-12T23:15:56.938Z"
    },
    "deepnote_execution_queue": [],
    "colab": {
      "provenance": [],
      "include_colab_link": true
    },
    "language_info": {
      "name": "python"
    },
    "kernelspec": {
      "name": "python3",
      "display_name": "Python 3"
    },
    "gpuClass": "standard"
  }
}