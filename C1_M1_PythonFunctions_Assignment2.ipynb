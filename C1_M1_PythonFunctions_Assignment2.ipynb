{
  "nbformat": 4,
  "nbformat_minor": 0,
  "metadata": {
    "colab": {
      "provenance": [],
      "toc_visible": true,
      "include_colab_link": true
    },
    "kernelspec": {
      "name": "python3",
      "display_name": "Python 3"
    },
    "language_info": {
      "name": "python"
    }
  },
  "cells": [
    {
      "cell_type": "markdown",
      "metadata": {
        "id": "view-in-github",
        "colab_type": "text"
      },
      "source": [
        "<a href=\"https://colab.research.google.com/github/Miltontn7677/datasciencecoursera/blob/master/C1_M1_PythonFunctions_Assignment2.ipynb\" target=\"_parent\"><img src=\"https://colab.research.google.com/assets/colab-badge.svg\" alt=\"Open In Colab\"/></a>"
      ]
    },
    {
      "cell_type": "markdown",
      "source": [
        "# Let's warm up your knowledge about Python Functions"
      ],
      "metadata": {
        "id": "ppDpsG5-CVRQ"
      }
    },
    {
      "cell_type": "markdown",
      "source": [
        "## Simple functions"
      ],
      "metadata": {
        "id": "oHK8Z4ABCb99"
      }
    },
    {
      "cell_type": "markdown",
      "source": [
        "### Task: Define a function `sayhi()` that:\n",
        "1.  Ask user for an int and save it to `n`.\n",
        "2.  print 'Welcome to Python Functions' n times."
      ],
      "metadata": {
        "id": "yg5W8YfOC1dA"
      }
    },
    {
      "cell_type": "markdown",
      "source": [
        "### Task: Call sayhi()"
      ],
      "metadata": {
        "id": "Gb9EIY26DXD7"
      }
    },
    {
      "cell_type": "code",
      "source": [
        "def sayhi():\n",
        "    n = int(input('Enter an integer: '))\n",
        "    for i in range(n):\n",
        "        print('Welcome to Python Functions')\n",
        "sayhi()\n",
        ""
      ],
      "metadata": {
        "colab": {
          "base_uri": "https://localhost:8080/"
        },
        "id": "s1QipZimJVqI",
        "outputId": "d4d44cdd-a65c-4ad7-cc17-5cf5c062b7e6"
      },
      "execution_count": 34,
      "outputs": [
        {
          "output_type": "stream",
          "name": "stdout",
          "text": [
            "Enter an integer: 5\n",
            "Welcome to Python Functions\n",
            "Welcome to Python Functions\n",
            "Welcome to Python Functions\n",
            "Welcome to Python Functions\n",
            "Welcome to Python Functions\n"
          ]
        }
      ]
    },
    {
      "cell_type": "markdown",
      "source": [
        "### Task: Define a function `sayhi(n)` that print 'Welcome to Python Functions' `n` times."
      ],
      "metadata": {
        "id": "jNWzC7reDzBK"
      }
    },
    {
      "cell_type": "code",
      "source": [
        "def sayhi(n):\n",
        "    for i in range(n):\n",
        "        print('Welcome to Python Functions')\n",
        "sayhi(2)"
      ],
      "metadata": {
        "colab": {
          "base_uri": "https://localhost:8080/"
        },
        "id": "d8OC1mz0Jpqv",
        "outputId": "d7f1d881-18d7-45bd-9354-8f1329d54fd8"
      },
      "execution_count": 36,
      "outputs": [
        {
          "output_type": "stream",
          "name": "stdout",
          "text": [
            "Welcome to Python Functions\n",
            "Welcome to Python Functions\n"
          ]
        }
      ]
    },
    {
      "cell_type": "code",
      "source": [],
      "metadata": {
        "id": "X4ad7apeJo6o"
      },
      "execution_count": null,
      "outputs": []
    },
    {
      "cell_type": "markdown",
      "source": [
        "### Task: Call sayhi(n) to print out 5 times"
      ],
      "metadata": {
        "id": "nafd3aKWDNZ9"
      }
    },
    {
      "cell_type": "markdown",
      "source": [
        "## Advanced functions"
      ],
      "metadata": {
        "id": "Qq3vg5svD9IC"
      }
    },
    {
      "cell_type": "markdown",
      "source": [
        "### Task: Call `sayhi(n)` to print out 0, 1, and 5 messages."
      ],
      "metadata": {
        "id": "6kl3LMEDEud4"
      }
    },
    {
      "cell_type": "code",
      "source": [
        "sayhi()\n"
      ],
      "metadata": {
        "colab": {
          "base_uri": "https://localhost:8080/"
        },
        "id": "6DjEpqZ2Afxy",
        "outputId": "153ce79b-d1d5-4634-b0df-59de5667884d"
      },
      "execution_count": 26,
      "outputs": [
        {
          "output_type": "stream",
          "name": "stdout",
          "text": [
            "Enter an integer: 5\n",
            "Welcome to Python Functions\n",
            "Welcome to Python Functions\n",
            "Welcome to Python Functions\n",
            "Welcome to Python Functions\n",
            "Welcome to Python Functions\n"
          ]
        }
      ]
    },
    {
      "cell_type": "markdown",
      "source": [
        "### Task: Define a function `sayhi(n, msg)` that:\n",
        "1. `n` is by default 1, if user doesn't pass an argument to the function.\n",
        "1.  `msg` by default is 'Welcome to Python Functions', if user doesn't pass an argument.\n",
        "1.  print `msg` `n` times."
      ],
      "metadata": {
        "id": "xlzwLq_yEZ55"
      }
    },
    {
      "cell_type": "code",
      "source": [
        "def sayhi(n=1, msg='Welcome to Python Functions'):\n",
        "    for i in range(n):\n",
        "        print(msg)\n",
        "sayhi(n =4)\n"
      ],
      "metadata": {
        "colab": {
          "base_uri": "https://localhost:8080/"
        },
        "id": "gC6jT6VvBZ0_",
        "outputId": "c99ee371-d59a-4645-f6b8-dc2c8becebfc"
      },
      "execution_count": 56,
      "outputs": [
        {
          "output_type": "stream",
          "name": "stdout",
          "text": [
            "Welcome to Python Functions\n",
            "Welcome to Python Functions\n",
            "Welcome to Python Functions\n",
            "Welcome to Python Functions\n"
          ]
        }
      ]
    },
    {
      "cell_type": "markdown",
      "source": [
        "### Task: Call `sayhi(n, msg)` to print out 0, 1, and 5 'Welcome to Python Functions'."
      ],
      "metadata": {
        "id": "RC0dRnrqE6ZG"
      }
    },
    {
      "cell_type": "code",
      "source": [
        "print (sayhi(0, msg = 'Welcome to Python Functions'))\n",
        "sayhi(1, msg = 'Welcome to Python Functions')\n",
        "sayhi(5, msg = 'Welcome to Python Functions')\n"
      ],
      "metadata": {
        "colab": {
          "base_uri": "https://localhost:8080/"
        },
        "id": "URZP8BHyCIcP",
        "outputId": "005613ff-d8f0-470b-baaa-5fc94b56f29f"
      },
      "execution_count": 57,
      "outputs": [
        {
          "output_type": "stream",
          "name": "stdout",
          "text": [
            "None\n",
            "Welcome to Python Functions\n",
            "Welcome to Python Functions\n",
            "Welcome to Python Functions\n",
            "Welcome to Python Functions\n",
            "Welcome to Python Functions\n",
            "Welcome to Python Functions\n"
          ]
        }
      ]
    },
    {
      "cell_type": "markdown",
      "source": [
        "### Task: Call `sayhi(n, msg)` to print out 0, 1, and 5 'yeah'."
      ],
      "metadata": {
        "id": "YZ_vM9tdE_cf"
      }
    },
    {
      "cell_type": "code",
      "source": [
        "sayhi(0, 'yeah')\n",
        "sayhi(1, 'yeah')\n",
        "sayhi(5, 'yeah')\n",
        "\n",
        "\n"
      ],
      "metadata": {
        "colab": {
          "base_uri": "https://localhost:8080/"
        },
        "id": "29KXxWdFC7NI",
        "outputId": "68d574f6-69c2-463b-9f0c-fd53a2c311b5"
      },
      "execution_count": 63,
      "outputs": [
        {
          "output_type": "stream",
          "name": "stdout",
          "text": [
            "yeah\n",
            "yeah\n",
            "yeah\n",
            "yeah\n",
            "yeah\n",
            "yeah\n"
          ]
        }
      ]
    }
  ]
}